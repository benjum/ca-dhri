{
 "cells": [
  {
   "cell_type": "markdown",
   "id": "9f42023e-9c42-4fab-9480-c06415ec3211",
   "metadata": {},
   "source": [
    "#### Overview\n",
    "\n",
    "Part 1: Basic text analysis\n",
    "\n",
    "Part 2: Cleaning and normalization\n",
    "\n",
    "Ideas for complex/advanced applications"
   ]
  },
  {
   "cell_type": "markdown",
   "id": "c450aca1-4ddc-4b71-bd15-9d9139d3709e",
   "metadata": {
    "raw_mimetype": "pdf",
    "tags": []
   },
   "source": [
    "### Part 1: Basic Text Analysis \n",
    "\n",
    "NLTK (Natural Language Toolkit): \n",
    "\n",
    "A python library with functions specifically designed to analyze natural (not-computer) language.\n",
    "\n",
    "NLTK needs to be imported in any python script that uses it\n"
   ]
  },
  {
   "cell_type": "code",
   "execution_count": 1,
   "id": "2d8d0961-d4b6-4e10-bfe7-2786eb4d5f4c",
   "metadata": {},
   "outputs": [],
   "source": [
    "import nltk\n",
    "from urllib.request import urlopen\n"
   ]
  },
  {
   "cell_type": "markdown",
   "id": "39457a47-ee99-4886-a9ee-654a79c4892b",
   "metadata": {},
   "source": [
    "NLTK comes with two built-in texts, *Moby Dick* and *Sense and Sensibility.* Note the assumptions about how NLTK will be used: novels, long, canonical..."
   ]
  },
  {
   "cell_type": "markdown",
   "id": "88c76f42-681b-4458-9f22-464e6d872a29",
   "metadata": {},
   "source": [
    "#### **NLTK functions: Concordance()**\n",
    "\n",
    "- Called on a Text object and takes a string (a sequence of characters) as an argument\n",
    "\n",
    "- text_variable.condordance(string_arg) \n",
    "\n",
    "- Calling condordance(\"word\") returns the words that surround “word” in different sentences, helping us to get a glimpse of the contexts in which the word shows up. For example:"
   ]
  },
  {
   "cell_type": "code",
   "execution_count": null,
   "id": "32717810-57c2-4c25-96d8-20d1d3a39039",
   "metadata": {
    "tags": []
   },
   "outputs": [],
   "source": [
    "#open = ('ca-dhri/Day2/ThingsFallApart.txt')\n",
    "\n",
    "#file = urlopen(my_url)\n",
    "#achebe_raw = file.read()\n",
    "#achebe_txt = achebe_raw.decode()\n",
    "#txt_tokens = nltk.word_tokenize(achebe_txt)\n",
    "#achebe = nltk.Text(txt_tokens)\n",
    "\n",
    "#let's make sure we created a text object\n",
    "achebe"
   ]
  },
  {
   "cell_type": "code",
   "execution_count": 15,
   "id": "0cc4969f-a0d3-4f55-854f-a110de189159",
   "metadata": {},
   "outputs": [
    {
     "data": {
      "text/plain": [
       "<Text: Things Fall Apart ( 1962 ) Achebe ,...>"
      ]
     },
     "execution_count": 15,
     "metadata": {},
     "output_type": "execute_result"
    }
   ],
   "source": [
    "my_file = open(\"/home/jovyan/ca-dhri/Day2/ThingsFallApart.txt\", \"r\")\n",
    "file_txt = my_file.read()\n",
    "txt_tokens = nltk.word_tokenize(file_txt)\n",
    "txt_prepped = nltk.Text(txt_tokens)\n",
    "\n",
    "txt_prepped\n"
   ]
  },
  {
   "cell_type": "code",
   "execution_count": null,
   "id": "65d40cc9-5067-4a49-b531-645275862575",
   "metadata": {},
   "outputs": [],
   "source": [
    "#file = open(\"ca-dhri/Day2/arrow.txt”, 'r')\n",
    "\n",
    "#achebe = achebe.read()  \n",
    "#achebe_raw = file.read()\n",
    "#achebe_txt = achebe_raw.decode()\n",
    "#txt_tokens = nltk.word_tokenize(achebe_txt)\n",
    "#achebe = nltk.Text(txt_tokens)"
   ]
  },
  {
   "cell_type": "code",
   "execution_count": 16,
   "id": "173c4f08-6a74-4e17-94cb-71d7e503985b",
   "metadata": {},
   "outputs": [
    {
     "name": "stdout",
     "output_type": "stream",
     "text": [
      "Displaying 8 of 8 matches:\n",
      "his court in splendour and the sands dance for ever . [ Page 31 ] CHAPTER FIVE \n",
      "e and faded with the wind—a peaceful dance from a distant clan . “ It is an ozo\n",
      "from a distant clan . “ It is an ozo dance , ” the men said among themselves . \n",
      "into silence again , and the elusive dance rose and fell with the wind . Somewh\n",
      "irls came from the inner compound to dance . At first the bride was not among t\n",
      "e cock to the musicians and began to dance . Her brass anklets rattled as she d\n",
      "ancient men appeared in the crowd to dance unsteadily the funeral steps of the \n",
      "heir secret enclosure to learn a new dance to be displayed later to the village\n"
     ]
    }
   ],
   "source": [
    "#call concordance on the word \"Mask\"\n",
    "txt_prepped.concordance(\"dance\")"
   ]
  },
  {
   "cell_type": "markdown",
   "id": "6b2157c4-bca7-470f-af3c-3a9974685c52",
   "metadata": {},
   "source": [
    "\n",
    "\n",
    "#### **NLTK functions: Similar()**\n",
    "\n",
    "-text.similar(string_arg)\n",
    "\n",
    "-Like concordance, similar will find the contexts of the string variable it is given, but it can also compare the content of these contexts to all other words, looking for words that are used in similar contexts to the given argument"
   ]
  },
  {
   "cell_type": "code",
   "execution_count": 8,
   "id": "456020e1-7f2f-47e3-b48f-4e2a7d5ca237",
   "metadata": {},
   "outputs": [
    {
     "name": "stdout",
     "output_type": "stream",
     "text": [
      "umuofia him see return me pay gather whistle market call rain live let\n",
      "help plait marry argue buy sway send\n"
     ]
    }
   ],
   "source": [
    "txt_prepped.similar(\"dance\")"
   ]
  },
  {
   "cell_type": "markdown",
   "id": "d3461ce7-fcc8-4ec2-95f7-5ceeb376002b",
   "metadata": {},
   "source": [
    "#### **NLTK functions: dispersion plot**\n",
    "\n",
    "-text.dispersion_plot(list_arg)\n",
    "\n",
    "-Takes a list of strings as input (not a single string!) and outputs a graph of the instances where each word appears. If you want to make a plot for one string, pass the function a one-object list [“example”]\n",
    "\n",
    "-Note: dispersion_plot() is helpful for seeing how language changes over time or over narrative arcs. It might be more useful on a large collection of newspapers over time than on a single newspaper.\n"
   ]
  },
  {
   "cell_type": "code",
   "execution_count": 9,
   "id": "b409785c-b4cd-4cf5-929d-1d7c6433e91e",
   "metadata": {},
   "outputs": [
    {
     "data": {
      "image/png": "[encoded data removed]",
      "text/plain": [
       "<Figure size 432x288 with 1 Axes>"
      ]
     },
     "metadata": {
      "needs_background": "light"
     },
     "output_type": "display_data"
    }
   ],
   "source": [
    "txt_prepped.dispersion_plot([\"dance\"])"
   ]
  },
  {
   "cell_type": "code",
   "execution_count": 10,
   "id": "27b89493-ae7a-44a4-981e-5404fa28b724",
   "metadata": {},
   "outputs": [
    {
     "data": {
      "image/png": "[encoded data removed]",
      "text/plain": [
       "<Figure size 432x288 with 1 Axes>"
      ]
     },
     "metadata": {
      "needs_background": "light"
     },
     "output_type": "display_data"
    }
   ],
   "source": [
    "txt_prepped.dispersion_plot([\"mask\",\"dance\",\"walk\"])"
   ]
  },
  {
   "cell_type": "markdown",
   "id": "98463815-a2f8-4533-9e13-7618098bf3b8",
   "metadata": {},
   "source": [
    "#### **NLTK functions: count()**\n",
    "\n",
    "-Takes a word as an argument and returns a count of each instance of that word in a text. \n",
    "\n",
    "-It is case sensitive (we will address cases in data cleaning)"
   ]
  },
  {
   "cell_type": "code",
   "execution_count": 11,
   "id": "a9b4ec46-2c37-4b8e-a14c-8779b3966177",
   "metadata": {},
   "outputs": [
    {
     "data": {
      "text/plain": [
       "8"
      ]
     },
     "execution_count": 11,
     "metadata": {},
     "output_type": "execute_result"
    }
   ],
   "source": [
    "txt_prepped.count(\"dance\")"
   ]
  },
  {
   "cell_type": "code",
   "execution_count": 12,
   "id": "5e3993e4-c61f-4aa9-ba42-df71bfafc2c6",
   "metadata": {},
   "outputs": [
    {
     "data": {
      "text/plain": [
       "60"
      ]
     },
     "execution_count": 12,
     "metadata": {},
     "output_type": "execute_result"
    }
   ],
   "source": [
    "txt_prepped.count(\"see\")"
   ]
  },
  {
   "cell_type": "markdown",
   "id": "4d1b2bd0-c2f5-4c7a-bb3b-3b6e829c9f19",
   "metadata": {},
   "source": [
    "### Practice in Breakout Rooms\n",
    "\n",
    "Can you think of how we could generate a concordance that would allow us to extract addresses from the text? What might we do with that information?"
   ]
  },
  {
   "cell_type": "markdown",
   "id": "ebacef38-7fa7-4ab9-b0ac-f17675fb17ab",
   "metadata": {},
   "source": [
    "#### **Python operations on NLTK objects: len(), set()**\n",
    "\n",
    "So far, we have been using the built-in NLTK corpus to analyze our text object. We can also use regular python expressions on it:\n",
    "\n",
    "**len(text_object)** returns the length of the nltk object, that is, the number of words in the text. In a pre-cleaning text, this will include punctuation and metadata. \n",
    "\n",
    "**set(text_object)** creates a set (a list without duplicates) of all the unique words \n",
    "\n",
    "**len(set(text_object)** returns — you guessed it — the length of the set of unique words, ie, the number of unique words in the text."
   ]
  },
  {
   "cell_type": "code",
   "execution_count": 13,
   "id": "2825651c-82a8-48b1-8b72-40bea27c1879",
   "metadata": {},
   "outputs": [
    {
     "data": {
      "text/plain": [
       "59812"
      ]
     },
     "execution_count": 13,
     "metadata": {},
     "output_type": "execute_result"
    }
   ],
   "source": [
    "len(txt_prepped)"
   ]
  },
  {
   "cell_type": "code",
   "execution_count": 14,
   "id": "453d9d04-260f-497f-911b-a547af9b6683",
   "metadata": {},
   "outputs": [
    {
     "data": {
      "text/plain": [
       "['!',\n",
       " \"'\",\n",
       " \"'s\",\n",
       " '(',\n",
       " ')',\n",
       " ',',\n",
       " '.',\n",
       " '...',\n",
       " '/',\n",
       " '//www.proquest.com/books/things-fall-apart-1962/docview/2138594716/se2',\n",
       " '0435909886',\n",
       " '1',\n",
       " '10',\n",
       " '100',\n",
       " '101',\n",
       " '102',\n",
       " '103',\n",
       " '104',\n",
       " '105',\n",
       " '106',\n",
       " '107',\n",
       " '108',\n",
       " '109',\n",
       " '11',\n",
       " '110',\n",
       " '111',\n",
       " '112',\n",
       " '113',\n",
       " '114',\n",
       " '115']"
      ]
     },
     "execution_count": 14,
     "metadata": {},
     "output_type": "execute_result"
    }
   ],
   "source": [
    "set(txt_prepped)\n",
    "sorted(set(txt_prepped))[:30]"
   ]
  },
  {
   "cell_type": "code",
   "execution_count": 14,
   "id": "324f4e89-e499-4308-bf1b-7972582f725b",
   "metadata": {},
   "outputs": [
    {
     "data": {
      "text/plain": [
       "7685"
      ]
     },
     "execution_count": 14,
     "metadata": {},
     "output_type": "execute_result"
    }
   ],
   "source": [
    "len(set(txt_prepped))"
   ]
  },
  {
   "cell_type": "markdown",
   "id": "d3efc3c7-2b8b-43a7-98a5-38c6e5ee525e",
   "metadata": {},
   "source": [
    "### Part 2: Cleaning and Normalizing Data"
   ]
  },
  {
   "cell_type": "markdown",
   "id": "4edb4c67-20e1-4fa2-83df-a67d506a5b82",
   "metadata": {},
   "source": [
    "#### **Removing capitalization and punctuation**\n",
    "\n",
    "Type vs. token: \n",
    "- angeles vs. Angeles vs. ANGELES are distinct types\n",
    "    \n",
    "- A token is an instance of a type\n",
    "\n",
    "- nltk.count(“angeles”) counts the number of tokens of that type\n",
    "\n",
    "If the distinction between cases isn't important in your analysis, making all values of a text lowercase can be useful.\n",
    "\n",
    "So we'll start normalizing the text by making all words lower case"
   ]
  },
  {
   "cell_type": "code",
   "execution_count": 15,
   "id": "7202a85f-6829-43d7-a4a6-c8cb49dbc92f",
   "metadata": {},
   "outputs": [],
   "source": [
    "txt_prepped_lowercase = [word.lower() for word in txt_prepped] "
   ]
  },
  {
   "cell_type": "code",
   "execution_count": 16,
   "id": "9303606b-852c-484e-9bf4-c6c48377b504",
   "metadata": {},
   "outputs": [
    {
     "data": {
      "text/plain": [
       "154"
      ]
     },
     "execution_count": 16,
     "metadata": {},
     "output_type": "execute_result"
    }
   ],
   "source": [
    "txt_prepped_lowercase.count(\"see\")"
   ]
  },
  {
   "cell_type": "markdown",
   "id": "2752ba7f-db75-487e-8c4c-dd9997ce45eb",
   "metadata": {},
   "source": [
    "#### **Remove all punctuation**\n",
    "\n",
    "Lets run this: "
   ]
  },
  {
   "cell_type": "code",
   "execution_count": 18,
   "id": "9152f270-eb4c-4a0c-b654-bf52c9436d1d",
   "metadata": {},
   "outputs": [],
   "source": [
    "txt_prepped_lowercase_textonly = [word.lower() for word in txt_prepped if word.isalpha()]"
   ]
  },
  {
   "cell_type": "code",
   "execution_count": null,
   "id": "a26c91ca-8ae0-4792-b4cd-b7ed9ae5977b",
   "metadata": {},
   "outputs": [],
   "source": [
    "#What did we just do, though?\n",
    "#liberator_lowercase_textonly = [word.lower() for word in liberator if word.isalpha()] is shorthand for this function\n",
    "\n",
    "liberator_lowercase_textonly = []\t\t\t\t#define an empty list called liberator_lowercase_only\n",
    "\n",
    "for w in liberator:\t\t\t\t\t        #For each word (\"w\") in our existing text object \n",
    "\n",
    "\tif w.isalpha():\t\t\t\t        #if the word (“w”) is letters (not punctuation)\n",
    "        \n",
    "\t\tliberator_lowercase_textonly.append(w.lower())  \t#make it lowercase and add to our new list\n",
    "\n",
    "        #if the word is not alpha, the for loop will move on to the next word \n"
   ]
  },
  {
   "cell_type": "markdown",
   "id": "9d42a159-0b2f-49bf-9c08-22f56073bcea",
   "metadata": {},
   "source": [
    "TIP: be smart about your variable names "
   ]
  },
  {
   "cell_type": "markdown",
   "id": "e0b6b1d7-2222-4cd8-8e7b-f27d1aef27f8",
   "metadata": {},
   "source": [
    "#### **Removing stop words**\n",
    "\n",
    "- (\"the,\" \"an,\" \"a,\" etc.)\n"
   ]
  },
  {
   "cell_type": "code",
   "execution_count": 19,
   "id": "cc710393-fc20-4b0a-ae46-fa36845136c1",
   "metadata": {},
   "outputs": [
    {
     "name": "stdout",
     "output_type": "stream",
     "text": [
      "<class 'nltk.corpus.util.LazyCorpusLoader'>\n",
      "<class 'list'>\n",
      "['i', 'me', 'my', 'myself', 'we', 'our', 'ours', 'ourselves', 'you', \"you're\", \"you've\", \"you'll\", \"you'd\", 'your', 'yours', 'yourself', 'yourselves', 'he', 'him', 'his', 'himself', 'she', \"she's\", 'her', 'hers', 'herself', 'it', \"it's\", 'its', 'itself', 'they', 'them', 'their', 'theirs', 'themselves', 'what', 'which', 'who', 'whom', 'this', 'that', \"that'll\", 'these', 'those', 'am', 'is', 'are', 'was', 'were', 'be', 'been', 'being', 'have', 'has', 'had', 'having', 'do', 'does', 'did', 'doing', 'a', 'an', 'the', 'and', 'but', 'if', 'or', 'because', 'as', 'until', 'while', 'of', 'at', 'by', 'for', 'with', 'about', 'against', 'between', 'into', 'through', 'during', 'before', 'after', 'above', 'below', 'to', 'from', 'up', 'down', 'in', 'out', 'on', 'off', 'over', 'under', 'again', 'further', 'then', 'once', 'here', 'there', 'when', 'where', 'why', 'how', 'all', 'any', 'both', 'each', 'few', 'more', 'most', 'other', 'some', 'such', 'no', 'nor', 'not', 'only', 'own', 'same', 'so', 'than', 'too', 'very', 's', 't', 'can', 'will', 'just', 'don', \"don't\", 'should', \"should've\", 'now', 'd', 'll', 'm', 'o', 're', 've', 'y', 'ain', 'aren', \"aren't\", 'couldn', \"couldn't\", 'didn', \"didn't\", 'doesn', \"doesn't\", 'hadn', \"hadn't\", 'hasn', \"hasn't\", 'haven', \"haven't\", 'isn', \"isn't\", 'ma', 'mightn', \"mightn't\", 'mustn', \"mustn't\", 'needn', \"needn't\", 'shan', \"shan't\", 'shouldn', \"shouldn't\", 'wasn', \"wasn't\", 'weren', \"weren't\", 'won', \"won't\", 'wouldn', \"wouldn't\"]\n"
     ]
    },
    {
     "name": "stderr",
     "output_type": "stream",
     "text": [
      "[nltk_data] Downloading package stopwords to /home/jovyan/nltk_data...\n",
      "[nltk_data]   Package stopwords is already up-to-date!\n"
     ]
    }
   ],
   "source": [
    "#a predefined list of stopwords, how nice!\n",
    "nltk.download('stopwords')\n",
    "from nltk.corpus import stopwords\n",
    "\n",
    "#note, stopwords' type isn't a List, it's a WordListCorpusReader\n",
    "print(type(stopwords))\n",
    "\n",
    "#if we want a \"real\" list, we need to call the words attribute\n",
    "print(type(stopwords.words()))\n",
    "      \n",
    "#here's what we have:\n",
    "print(stopwords.words('english'))"
   ]
  },
  {
   "cell_type": "code",
   "execution_count": 20,
   "id": "690cb1fd-3870-45c5-ab73-596227d8ef0d",
   "metadata": {},
   "outputs": [],
   "source": [
    "#Get rid of stopwords in our text\n",
    "\n",
    "#make sure you import stopwords somewhere in the script before you call it\n",
    "txt_prepped_sans_stops = []\n",
    "stops = stopwords.words('english')\n",
    "\n",
    "#define a new list\n",
    "for word in txt_prepped_lowercase_textonly:\t\t\t\t#for each word in our cleaner list,\n",
    "    if word not in stops:\t                        #if that word isn’t in the list of stopwords,\n",
    "        txt_prepped_sans_stops.append(word)\t\t        #add it to our new list\n"
   ]
  },
  {
   "cell_type": "code",
   "execution_count": 21,
   "id": "901649d8-4b60-4a82-94b2-258902fbcc03",
   "metadata": {},
   "outputs": [
    {
     "data": {
      "text/plain": [
       "46"
      ]
     },
     "execution_count": 21,
     "metadata": {},
     "output_type": "execute_result"
    }
   ],
   "source": [
    "#did it work?\n",
    "txt_prepped_sans_stops.count(\"mask\")"
   ]
  },
  {
   "cell_type": "code",
   "execution_count": 22,
   "id": "bc31f0db-c436-4c0e-b20f-9d37c0702025",
   "metadata": {},
   "outputs": [
    {
     "data": {
      "text/plain": [
       "0"
      ]
     },
     "execution_count": 22,
     "metadata": {},
     "output_type": "execute_result"
    }
   ],
   "source": [
    "txt_prepped_sans_stops.count(\"of\")"
   ]
  },
  {
   "cell_type": "code",
   "execution_count": 23,
   "id": "c76395b3-5e02-4326-8f5d-29b52dbf01fd",
   "metadata": {},
   "outputs": [
    {
     "data": {
      "text/plain": [
       "0"
      ]
     },
     "execution_count": 23,
     "metadata": {},
     "output_type": "execute_result"
    }
   ],
   "source": [
    "txt_prepped_sans_stops.count(\"after\")"
   ]
  },
  {
   "cell_type": "markdown",
   "id": "b40c43b5-c978-410d-8b95-601bf8b17be9",
   "metadata": {},
   "source": [
    "#### **Lemmatizing words**\n",
    "\n",
    "- Lemmatization shrinks words to their grammatical root\n",
    "    - example, cats ⭢ cat and walked ⭢ walk\n",
    "  \n",
    "- This gets complicated in the case of men ⭢ man and sang ⭢ sing \n",
    "\n",
    "- Lemmatization looks up a word in a reference dictionary and finds the appropriate root (though this still is not entirely accurate and takes a long time, since each word must be looked up in a reference)\n",
    "\n",
    "- NLTK comes with pre-built stemmers and lemmatizers. "
   ]
  },
  {
   "cell_type": "code",
   "execution_count": 24,
   "id": "197a1a66-3eab-42c8-b329-ffb73f1a9df5",
   "metadata": {},
   "outputs": [
    {
     "name": "stdout",
     "output_type": "stream",
     "text": [
      "child\n",
      "better\n",
      "good\n",
      "better\n"
     ]
    }
   ],
   "source": [
    "from nltk.stem import WordNetLemmatizer\t\n",
    "\n",
    "#create an instance of it for our function\n",
    "wordnet_lemmatizer = WordNetLemmatizer()\t\n",
    "\n",
    "print(wordnet_lemmatizer.lemmatize(\"children\"))\n",
    "\n",
    "print(wordnet_lemmatizer.lemmatize(\"better\"))\n",
    "\n",
    "#for a word like “better,” need to specify grammatical function\n",
    "print(wordnet_lemmatizer.lemmatize(\"better\", pos='a'))\n",
    "print(wordnet_lemmatizer.lemmatize(\"better\", pos='n'))\n",
    "\n",
    "#Parts of Speech\n",
    "#ADJ, ADJ_SAT, ADV, NOUN, VERB = \"a\", \"s\", \"r\", \"n\", \"v\"\n",
    "\n",
    "txt_prepped_lemma = []\n",
    "for word in txt_prepped_sans_stops:\n",
    "    word_lem = wordnet_lemmatizer.lemmatize(word)\n",
    "    txt_prepped_lemma.append(word_lem)   "
   ]
  },
  {
   "cell_type": "markdown",
   "id": "55bdc5fd-7a63-4179-ba85-7da45dec7d2d",
   "metadata": {},
   "source": [
    "### Part 3: Basic text analysis with our clean text\n",
    "\n",
    "Because we've lemmatized our text, the results of functions like concordance, similar, and count will change. "
   ]
  },
  {
   "cell_type": "code",
   "execution_count": 25,
   "id": "afca615c-797d-424a-a37c-9ec628fcc6db",
   "metadata": {},
   "outputs": [
    {
     "name": "stdout",
     "output_type": "stream",
     "text": [
      "Displaying 24 of 24 matches:\n",
      "ar tell truth knew hated hear augury world ruin voice woman returning stream br\n",
      "ften said dead father umuaro looking world must utterly bewildered way new age \n",
      "unded town protected ezeulu saw ruin world day five year ago leader umuaro deci\n",
      " man medicine old woman market swept world broom even land white men say sun ne\n",
      "ews chukwu high god remove foot hold world must know eke okperi break page thre\n",
      "led village village thrown every man world decided must go wrestle land spirit \n",
      "r okperi think ulu fight blame today world spoilt longer head tail anything don\n",
      "roughout day sun breathed fire usual world lain prostrate shock bird sang morni\n",
      " sharp dry bark thunder broke tumult world dozed page month full life smelling \n",
      " made briton organizer page engineer world new old land great reward honourable\n",
      "ever heard father speak anyone equal world changing told like like bird friend \n",
      "come back something bring home share world like mask dancing want see well stan\n",
      " shall become last last become first world pas away one single word lord set tu\n",
      "ll mouth shit young man may go peace world longer world would given something w\n",
      " young man may go peace world longer world would given something would always r\n",
      "approach great wind today though bee world passing overhead people still flowin\n",
      " away due barking mad dog shame left world could beast bush could give father s\n",
      "hree month one died brought sickness world ridge ran middle head second amechi \n",
      "ing song bird eneke challenged whole world two stranger laughed like nwodika wh\n",
      "r disease abomination escaped spread world fortunately worst without remained h\n",
      "ccasional faint whisper soon outside world broke stopped whispering listened ca\n",
      "uaro home niger delta contact europe world hundred year although umuaro year co\n",
      "od eat one yam living god owns whole world entitled eat news spread anyone want\n",
      "eath shook umuaro root man like come world often ezeulu though died people expe\n"
     ]
    }
   ],
   "source": [
    "#we have to make our clean text an NLTK object to use the functions\n",
    "txt_prepped_clean = nltk.Text(txt_prepped_lemma)\n",
    "\n",
    "txt_prepped_clean.concordance('world')"
   ]
  },
  {
   "cell_type": "code",
   "execution_count": 26,
   "id": "27be138a-b5c7-4c60-9376-196ecf4a05ae",
   "metadata": {},
   "outputs": [
    {
     "name": "stdout",
     "output_type": "stream",
     "text": [
      "Displaying 13 of 13 matches:\n",
      "ppears market place broom right hand dance round vast open space beckoning broo\n",
      "ce whatever music beat drum somebody dance oduche reluctance left father talked\n",
      "dant making great plan coming learnt dance anxious mask edogo carving carver um\n",
      "houted back old woman never old come dance crowd laughed ikolo fashioned olden \n",
      "made proverb said see old woman stop dance point direction sure somewhere somet\n",
      "ay compound great man always someone dance salute page chapter ten although ton\n",
      "nest man know thing beat drum ezeulu dance see tomorrow tell umuaro come death \n",
      "mate came umunneora okperi learn new dance done many year dry season harvest gr\n",
      "e sent learn new thing tell man must dance dance prevalent scratched head conti\n",
      " learn new thing tell man must dance dance prevalent scratched head continued r\n",
      "like groan much song agaba mask song dance stood power aggressiveness youth con\n",
      "ke sane man reminded saying man must dance dance prevailing time told accept wi\n",
      "e man reminded saying man must dance dance prevailing time told accept wisdom t\n"
     ]
    }
   ],
   "source": [
    "txt_prepped_clean.concordance(\"dance\")"
   ]
  },
  {
   "cell_type": "code",
   "execution_count": 27,
   "id": "0bf20d05-0a50-4e66-9171-c65fc614e48b",
   "metadata": {},
   "outputs": [
    {
     "name": "stdout",
     "output_type": "stream",
     "text": [
      "Displaying 25 of 52 matches:\n",
      "cried hem salute like salute enraged mask adult house left suffer pain parturi\n",
      "ive sang idemili festival year great mask assumed important occasion mask call\n",
      "reat mask assumed important occasion mask called ogalanya man rich every idemi\n",
      "ighbour came ilo umunneora see great mask bedecked mirror rich cloth many colo\n",
      "ror rich cloth many colour page year mask spoke monologue full boast knew lang\n",
      "omething bring home share world like mask dancing want see well stand one plac\n",
      "son edogo left home early day finish mask carving new ancestral spirit five da\n",
      "pected return depth earth appear men mask would act attendant making great pla\n",
      "eat plan coming learnt dance anxious mask edogo carving carver umuaro besides \n",
      "ed long ago working moment hand free mask different could home profane gaze wo\n",
      "wo market place one initiated secret mask would dare approach hut faced forest\n",
      "s found atmosphere hut right carving mask around older mask regalia ancestral \n",
      " hut right carving mask around older mask regalia ancestral spirit older even \n",
      "n ambience gave power cunning finger mask fierce aggressive spirit horn teeth \n",
      "carving finally got hold heard voice mask beginning come wood edogo suddenly s\n",
      "orce slow deliberate like walk ijele mask lifting lowering foot weighty ceremo\n",
      "oup working new road like pair night mask caught abroad daylight ezeulu lay ob\n",
      "ge group would present new ancestral mask village coming new mask always impor\n",
      "ew ancestral mask village coming new mask always important occasion especially\n",
      "always important occasion especially mask high rank last day lot coming going \n",
      "lthough woman dared speak openly saw mask difficult guess man behind necessary\n",
      " behind necessary look people around mask see absent overcome difficulty elder\n",
      " whenever group village wished bring mask must go outside group village man ot\n",
      " gone way umuogwugwu select man wear mask man chose called amumegbu umuachala \n",
      "ret edogo obika intimately concerned mask come apart belonging age group obika\n"
     ]
    }
   ],
   "source": [
    "txt_prepped_clean.concordance(\"mask\")"
   ]
  },
  {
   "cell_type": "code",
   "execution_count": 28,
   "id": "38ca651f-ad38-4b2b-ab51-bbf82c4524a8",
   "metadata": {},
   "outputs": [
    {
     "name": "stdout",
     "output_type": "stream",
     "text": [
      "Displaying 25 of 90 matches:\n",
      "kposi wiped mouth back hand returned place every time prayed umuaro bitterness \n",
      "e umuachala umunneora soon mentioned place ezeulu known happened saw knew spiri\n",
      "lth find favour people sometimes see place kind weather perhaps returning home \n",
      "stand seen day came home marry woman place way say marry daughter like men agre\n",
      "made called ulu half medicine buried place became nkwo market half thrown strea\n",
      "e wanderer told three four different place sojourned moved driven away umuofia \n",
      "bly heard clearly corner nkwo market place men umuaro responded great effort lo\n",
      "ng motherland fight sending akukalia place choice war peace speak umuaro gave p\n",
      "d woman every eke day appears market place broom right hand dance round vast op\n",
      "d spear grass remember coming father place cut grass thatch said akukalia thing\n",
      "ed bull must wait return umuaro told place perhaps deliberate perhaps accidenta\n",
      "an done unforgivable thing let u put place man made corpse eye said would bear \n",
      "blowing crushed spoke two market ago place used one proverb said adult house go\n",
      "nely outpost okperi lower eye native place district officer something school pr\n",
      "rome thousand time british race take place british blood tell son son leave mer\n",
      "re rest took notice soon seated took place looked clarke like hour noticed sent\n",
      "ir must second thought stood offered place clarke captain winterbottom drinking\n",
      " gathered publicly destroyed firearm place except course collection going frequ\n",
      " ulu folk assembled listen hear word place beyond knowing man spirit venture un\n",
      "a nodded admiration fillipped finger place christian built place worship far ez\n",
      "llipped finger place christian built place worship far ezeulu compound sat obi \n",
      "mask dancing want see well stand one place spirit tell befriend white man today\n",
      "orker thief destroyer mark great obi place whatever music beat drum somebody da\n",
      "ilt work secluded corner nkwo market place one initiated secret mask would dare\n",
      "pproach hut faced forest away market place certain time woman called upon rub e\n"
     ]
    }
   ],
   "source": [
    "txt_prepped_clean.concordance(\"place\")"
   ]
  },
  {
   "cell_type": "code",
   "execution_count": 29,
   "id": "0feab4c3-5a4a-4c90-bdce-4660c881c88f",
   "metadata": {},
   "outputs": [
    {
     "name": "stdout",
     "output_type": "stream",
     "text": [
      "Displaying 25 of 162 matches:\n",
      "e bring good asked ugoye younger wife see blind see beyond top ukwa tree follow\n",
      "od asked ugoye younger wife see blind see beyond top ukwa tree follow oho see m\n",
      "d see beyond top ukwa tree follow oho see moon may face meeting mine bring good\n",
      "y edogo reply ezeulu looked direction see clearly part obi darkness edogo part \n",
      "think tell difference face deity face see may go son like may carve god umuaro \n",
      "rth punctuate prayer ulu thank making see another new moon may see may househol\n",
      "thank making see another new moon may see may household healthy prosperous moon\n",
      "ing stream broke ezeulu thought could see darkness outside new moon shown retir\n",
      " today said ezeulu time one day would see eru said nwafo referring apparition o\n",
      "king worse son keep quiet said ezeulu see obika cooled little obika began tell \n",
      "e wealth find favour people sometimes see place kind weather perhaps returning \n",
      "money buy ivory bracelet ezeulu never see anything wrong know ojiugo looking to\n",
      "separated whole length compound could see yellowish glow lamp low eaves thresho\n",
      "ry land people come near market would see ancient woman tell story nkwo market \n",
      "d calling father go away ogbanje said see stranger nweke slapped shall whip lat\n",
      "d wait shall think sleep okperi today see elder ebo came saluted generally surp\n",
      " ebo came saluted generally surprised see many people temporarily loss began sh\n",
      "i forbids eat kolanut shake hand want see elder told possible choose today brin\n",
      "op hear message sat nobody else spoke see son daughter get elder together tomor\n",
      "ryone stood aghast split two ebo last see abomination struggling otikpo wanted \n",
      "o thinking might violence rushed room see late ebo pushed aside came obi loaded\n",
      "g pulled hair chewed swore would live see umuaro spat upon led nwaka spoke usua\n",
      "aside gone way chi ordained let slave see another cast shallow grave know burie\n",
      "age umuachala held oil lamp face came see clearly altogether sent fifteen peopl\n",
      "though longer fear abam warrior night see eye mine priest making lord u father \n"
     ]
    }
   ],
   "source": [
    "txt_prepped_clean.concordance(\"see\")"
   ]
  },
  {
   "cell_type": "code",
   "execution_count": 31,
   "id": "537bae7a-86bf-4f15-8ce2-f206cb65d738",
   "metadata": {},
   "outputs": [
    {
     "name": "stdout",
     "output_type": "stream",
     "text": [
      "Displaying 20 of 20 matches:\n",
      "d enemy yes say take away man umuaro stand say dare woman bear man say yet rebu\n",
      "ss son sometimes better coward often stand compound coward point ruin brave man\n",
      "riously wrong called daughter akueke stand seen day came home marry woman place\n",
      "lying ant swarmed around tilley lamp stand far corner soon lost wing crawled fl\n",
      "id obika tried take spear would hear stand aside told think fighting inside two\n",
      "orld like mask dancing want see well stand one place spirit tell befriend white\n",
      "t asked rate shall find nowhere even stand market came hut carrying bunch pumpk\n",
      "bush could give father second burial stand pas shit mouth enough come abuse dis\n",
      "sks u proceed previous policy anyone stand frustrating said clarke know thinkin\n",
      "se go war okperi piece land belong u stand page tell umuaro would happen right \n",
      "d traveller distant place make enemy stand true said akuebue wondering best lea\n",
      "ication concealed satisfaction taken stand matter want appear eager others supp\n",
      "aving akuebue ezeulu small guardroom stand man dying chi say man poisoner altho\n",
      "me haul eighth day cried quick quick stand set ezeulu wore shimmering yellow un\n",
      "aid let u shelter tree see dangerous stand tree storm like let u go salt carryi\n",
      "ra matter cooled must answer one two stand said anosi nwodika son already expla\n",
      "munneora tell stop run say run shall stand one different said akuebue travellin\n",
      "uld taken one back seat okwolo chose stand crowd see mask different position fi\n",
      "ir fouled go okperi ask come eat yam stand u harvest shall sit watch harvest ru\n",
      "bunu obielue sang ezeulu nwafo could stand gave friend blow mouth brought blood\n"
     ]
    }
   ],
   "source": [
    "txt_prepped_clean.concordance(\"stand\")"
   ]
  },
  {
   "cell_type": "code",
   "execution_count": 30,
   "id": "e17ad90d-d5ef-44aa-a1cc-201c3fb064ae",
   "metadata": {},
   "outputs": [
    {
     "name": "stdout",
     "output_type": "stream",
     "text": [
      "always ask nkwo give thought quarrel confused prepared\n"
     ]
    }
   ],
   "source": [
    "txt_prepped_clean.similar(\"stand\")"
   ]
  },
  {
   "cell_type": "code",
   "execution_count": null,
   "id": "15de2aec-771d-4f82-ae40-b58dec2d367a",
   "metadata": {},
   "outputs": [],
   "source": [
    "liberator_clean.similar(\"child\")"
   ]
  },
  {
   "cell_type": "code",
   "execution_count": null,
   "id": "0617aa5a-4e9d-48ef-9143-cb6dd35a7fa4",
   "metadata": {},
   "outputs": [],
   "source": [
    "liberator_clean.dispersion_plot([\"law\",\"america\",\"anarchist\",\"assassin\",])"
   ]
  },
  {
   "cell_type": "code",
   "execution_count": null,
   "id": "16ba6cfb-4ac9-4882-9bea-3dc3f941bf0a",
   "metadata": {},
   "outputs": [],
   "source": [
    "liberator.dispersion_plot([\"law\",\"America\",\"anarchist\",\"assassin\",])"
   ]
  },
  {
   "cell_type": "code",
   "execution_count": null,
   "id": "a35f06dc-e03b-4f47-8008-b823516b736d",
   "metadata": {},
   "outputs": [],
   "source": []
  }
 ],
 "metadata": {
  "kernelspec": {
   "display_name": "Python 3 (ipykernel)",
   "language": "python",
   "name": "python3"
  },
  "language_info": {
   "codemirror_mode": {
    "name": "ipython",
    "version": 3
   },
   "file_extension": ".py",
   "mimetype": "text/x-python",
   "name": "python",
   "nbconvert_exporter": "python",
   "pygments_lexer": "ipython3",
   "version": "3.9.6"
  }
 },
 "nbformat": 4,
 "nbformat_minor": 5
}
