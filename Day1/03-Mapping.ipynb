{
 "cells": [
  {
   "cell_type": "markdown",
   "id": "78fa49d6-5aa9-4ba5-aa0c-b4ab73b918bf",
   "metadata": {},
   "source": [
    "# Visualizing Redlining Neighborhoods"
   ]
  },
  {
   "cell_type": "markdown",
   "id": "6d2ec483-d5f7-41bf-ad5b-8ac0488efac9",
   "metadata": {},
   "source": [
    "## Mapping in Python\n",
    "We start by importing a new module `geopandas`. This is a pretty high level geospatial library, widely used by spatial data scientists all over the world. Don't worry about it too much for now, but know that it allows us to import a variety of spatial data formats, and plot them on a map.\n",
    "\n",
    "* [geopandas documentation](https://geopandas.readthedocs.io/en/latest/gallery/index.html)"
   ]
  },
  {
   "cell_type": "markdown",
   "id": "a5d2bfa8-5566-4e76-995e-ea5969c2652b",
   "metadata": {},
   "source": [
    "## Finding spatial data\n",
    "\n",
    "Spatial data comes in many forms. Most popular are:\n",
    "- [Shapefiles](https://doc.arcgis.com/en/arcgis-online/reference/shapefiles.htm)\n",
    "- [geojson](https://en.wikipedia.org/wiki/GeoJSON)\n",
    "  - [geojson.io](https://geojson.io/)\n",
    "- csv files with latitude longitude columns"
   ]
  },
  {
   "cell_type": "markdown",
   "id": "539b37d1-2c83-47ab-98af-1d2f1881f3bf",
   "metadata": {},
   "source": [
    "## Using geopandas\n",
    "\n",
    "1. `import` geopandas and give it an alias `gpd`\n",
    "1. use `read_file` to bring spatial data to your notebook\n",
    "1. use `plot` to visualize"
   ]
  },
  {
   "cell_type": "code",
   "execution_count": null,
   "id": "650b66e4-ffd4-420f-86d8-d1caafe79fbe",
   "metadata": {},
   "outputs": [],
   "source": [
    "# import geopandas\n",
    "import geopandas as gpd"
   ]
  },
  {
   "cell_type": "markdown",
   "id": "a9785bd8-b6bf-4f64-98cb-f5d3d8a3592a",
   "metadata": {},
   "source": [
    "## Loading data\n",
    "\n",
    "<img src=\"https://oehha.ca.gov/sites/default/files/media/files/images/logo/calenviroscreenlogosmaller.png\">\n",
    "\n",
    "Let's find some data to bring in.\n",
    "\n",
    "- https://oehha.ca.gov/calenviroscreen\n",
    "- [About the data](https://oehha.ca.gov/calenviroscreen/maps-data/download-data)"
   ]
  },
  {
   "cell_type": "code",
   "execution_count": null,
   "id": "0c78d7ea-1407-4d6b-8485-4bd734ad3028",
   "metadata": {},
   "outputs": [],
   "source": [
    "# load spatial data into a variable \"cal\"\n",
    "cal = gpd.read_file('data/calenviroscreen40shpf2021shp.zip')"
   ]
  },
  {
   "cell_type": "markdown",
   "id": "a1e79e9d-a09a-409c-ad38-19748391dc00",
   "metadata": {},
   "source": [
    "Once the data is loaded, you can visualize it: `.plot`"
   ]
  },
  {
   "cell_type": "code",
   "execution_count": null,
   "id": "7ee7e608-e9e0-4335-8a4f-c393ba90efc8",
   "metadata": {},
   "outputs": [],
   "source": [
    "cal.plot()"
   ]
  },
  {
   "cell_type": "markdown",
   "id": "b9cc1ea1-2f0a-4caf-8a31-428fdaf515f4",
   "metadata": {},
   "source": [
    "Let's make the map bigger by adding an argument: `figsize`"
   ]
  },
  {
   "cell_type": "code",
   "execution_count": null,
   "id": "8f1f70b8-1aa5-4491-aa08-750dd141b22b",
   "metadata": {},
   "outputs": [],
   "source": [
    "cal.plot(figsize=(12,12))"
   ]
  },
  {
   "cell_type": "markdown",
   "id": "4e03dd0c-ce5c-4f6f-b4e6-263f6cb7de0f",
   "metadata": {},
   "source": [
    "## Data view\n",
    "\n",
    "Map layers (shapefiles, geojson files, etc) come with \"attribute\" data. You can look at the data through pandas commands.\n",
    "\n",
    "First, look at the data fields available: `.info`"
   ]
  },
  {
   "cell_type": "code",
   "execution_count": null,
   "id": "58db3e8f-26ef-48d1-93cf-17fcdc5801ab",
   "metadata": {},
   "outputs": [],
   "source": [
    "cal.info()"
   ]
  },
  {
   "cell_type": "code",
   "execution_count": null,
   "id": "76447f2e-08c0-41a1-b0cd-d1cb816c9e4e",
   "metadata": {},
   "outputs": [],
   "source": [
    "# look at the first 5 rows using .head\n"
   ]
  },
  {
   "cell_type": "code",
   "execution_count": null,
   "id": "4c5a2230-1ee4-46c3-ac5f-fa35f53cf34f",
   "metadata": {},
   "outputs": [],
   "source": [
    "# look at the last 5 rows using .tail\n"
   ]
  },
  {
   "cell_type": "code",
   "execution_count": null,
   "id": "97f27203-5bfd-48d9-9192-1d10c69ab609",
   "metadata": {},
   "outputs": [],
   "source": [
    "# look at a single random record using .sample\n"
   ]
  },
  {
   "cell_type": "code",
   "execution_count": null,
   "id": "fb5af1a0-e058-435f-947d-2c28b972ab6b",
   "metadata": {},
   "outputs": [],
   "source": [
    "# plot a single random census tract (hint: chain multiple commands!)\n"
   ]
  },
  {
   "cell_type": "markdown",
   "id": "1ab4eab6-c9c6-4675-b56b-3b7919624a31",
   "metadata": {},
   "source": [
    "## Choropleth maps\n",
    "\n",
    "Otherwise known as *thematic* maps, choropleth maps are a way to visualize *polygonial* data with colors. In other words, each region is colored a certain way, based on some criteria you define.\n",
    "\n",
    "- [geopandas examples](https://geopandas.org/en/stable/gallery/choropleths.html)\n",
    "\n",
    "Using the `.plot` function, we can add *arguments* to make it a choropleth map.\n",
    "- `column` defines which attribute you want to use to color the map\n",
    "- `scheme` defines how you want the colors to be distributed\n",
    "  - `quantiles`\n",
    "  - `NaturalBreaks`\n",
    "  - `UserDefined`\n",
    "- `legend` true or false\n",
    "- `cmap` choose a [color scheme](https://matplotlib.org/stable/tutorials/colors/colormaps.html)\n",
    "- `k` how many bins?"
   ]
  },
  {
   "cell_type": "code",
   "execution_count": null,
   "id": "7d718106-6a87-4c5e-992c-ee86cf7f380a",
   "metadata": {},
   "outputs": [],
   "source": [
    "layer1 = cal.plot(figsize=(12,12),\n",
    "                  column='PovertyP', \n",
    "                  scheme='quantiles', \n",
    "                  legend=True, \n",
    "                  cmap='OrRd',\n",
    "                  k=4)\n",
    "\n",
    "# give it a title\n",
    "layer1.set_title('Poverty in California', fontdict={'fontsize': '25', 'fontweight' : '3'})\n",
    "\n",
    "# turn the axes off\n",
    "layer1.set_axis_off();"
   ]
  },
  {
   "cell_type": "markdown",
   "id": "e582b525-22b8-445d-b604-1252639fc7b9",
   "metadata": {},
   "source": [
    "In the code cell that created the map above, what happens when you do the following?\n",
    "- change the `k` value to 2\n",
    "- change the `column` value to a different attribute\n",
    "- change the `cmap` value to a different [color scheme](https://matplotlib.org/stable/tutorials/colors/colormaps.html)"
   ]
  },
  {
   "cell_type": "markdown",
   "id": "6476e8a5-1a81-43f9-acd4-14e8340490cd",
   "metadata": {},
   "source": [
    "### User defined bins"
   ]
  },
  {
   "cell_type": "code",
   "execution_count": null,
   "id": "586f3a3b-5fb8-495f-9c5a-523cd439bc7e",
   "metadata": {},
   "outputs": [],
   "source": [
    "map = cal.plot(figsize=(12,12),\n",
    "                  column='AsthmaP', \n",
    "                  legend=True, \n",
    "                  cmap='Greens', \n",
    "                  scheme='user_defined', \n",
    "                  classification_kwds={'bins':[80,100]})\n",
    "\n",
    "# give it a title\n",
    "map.set_title('Asthma in California', fontdict={'fontsize': '25', 'fontweight' : '3'})\n",
    "\n",
    "# turn the axes off\n",
    "map.set_axis_off();"
   ]
  },
  {
   "cell_type": "markdown",
   "id": "b4478e3e-8db1-4a14-85ad-b28e71322acf",
   "metadata": {},
   "source": [
    "<div class=\"alert alert-success\"><h2>It's your turn!</h2>\n",
    "    Create a map with different attributes, colors, titles, etc. Be creative! And post your final output to the <a href=\"https://docs.google.com/document/d/1NYIlXmgWLL3nPDflwI-7PcjRjD95-1im5b8ecnvS5fw/edit?usp=sharing\">class gallery</a>.\n",
    "</div>"
   ]
  },
  {
   "cell_type": "markdown",
   "id": "f22f9fdc-78f5-460c-b10d-f39e13e06723",
   "metadata": {},
   "source": [
    "# Green Book"
   ]
  },
  {
   "cell_type": "code",
   "execution_count": null,
   "id": "d651ef7b-d8b9-47ec-a1d3-16981cad13c2",
   "metadata": {},
   "outputs": [],
   "source": [
    "green = gpd.read_file('data/47greenbook.csv')\n",
    "\n",
    "green = gpd.GeoDataFrame(green, geometry=gpd.points_from_xy(green.Longitude, green.Latitude), crs=\"EPSG:4326\")"
   ]
  },
  {
   "cell_type": "code",
   "execution_count": null,
   "id": "2c6b14fd-a9c4-4257-be1f-97b79d7e7d7c",
   "metadata": {},
   "outputs": [],
   "source": [
    "green.head()"
   ]
  },
  {
   "cell_type": "code",
   "execution_count": null,
   "id": "f961160a-1f8d-4311-9ff5-390b8c9b773b",
   "metadata": {},
   "outputs": [],
   "source": [
    "green.plot()"
   ]
  },
  {
   "cell_type": "code",
   "execution_count": null,
   "id": "ed32e69a-a51f-4107-9431-a94cbde6af37",
   "metadata": {},
   "outputs": [],
   "source": [
    "# bigger, styled\n",
    "map = green.plot(figsize=(12,12),column='Type',legend=True)\n",
    "\n",
    "# give it a title\n",
    "map.set_title('Greenbook Locations in LA', fontdict={'fontsize': '25', 'fontweight' : '3'})\n",
    "\n",
    "# turn the axes off\n",
    "map.set_axis_off();"
   ]
  },
  {
   "cell_type": "markdown",
   "id": "19f64ee9-6374-4196-8e7d-f95466e0af09",
   "metadata": {},
   "source": [
    "## Adding a basemap\n",
    "\n",
    "- [Contextily](https://contextily.readthedocs.io/en/latest/intro_guide.html)"
   ]
  },
  {
   "cell_type": "code",
   "execution_count": null,
   "id": "0808486b-6aa7-4af1-89f3-64b9d017a502",
   "metadata": {},
   "outputs": [],
   "source": [
    "import contextily as cx"
   ]
  },
  {
   "cell_type": "code",
   "execution_count": null,
   "id": "a6837ae5-013f-41cf-85dc-76a5aea7d4ad",
   "metadata": {},
   "outputs": [],
   "source": [
    "fig, ax = plt.subplots(figsize=(12,12))\n",
    "\n",
    "green.plot(ax=ax,column='Type',legend=True)\n",
    "\n",
    "# give it a title\n",
    "ax.set_title('Greenbook Locations in LA', fontdict={'fontsize': '25', 'fontweight' : '3'})\n",
    "\n",
    "# turn the axes off\n",
    "ax.set_axis_off()\n",
    "\n",
    "# add a basemap\n",
    "cx.add_basemap(ax, crs=green.crs.to_string())"
   ]
  },
  {
   "cell_type": "markdown",
   "id": "9ee1e626-049f-4ab9-9ebc-c226e3f9756e",
   "metadata": {},
   "source": [
    "## Mapping two or more layers"
   ]
  },
  {
   "cell_type": "markdown",
   "id": "fdb9c4d4-8f1d-458d-a844-611b1cdf7c80",
   "metadata": {},
   "source": [
    "Check: are the data layers in the same projection?"
   ]
  },
  {
   "cell_type": "code",
   "execution_count": null,
   "id": "3635822f-c577-44b1-b2aa-0769c013a079",
   "metadata": {},
   "outputs": [],
   "source": [
    "cal.crs"
   ]
  },
  {
   "cell_type": "code",
   "execution_count": null,
   "id": "9be812f1-730e-43db-951c-5066b650c728",
   "metadata": {},
   "outputs": [],
   "source": [
    "green.crs"
   ]
  },
  {
   "cell_type": "code",
   "execution_count": null,
   "id": "d9161ebd-5e55-459c-970b-bd0f24adf894",
   "metadata": {},
   "outputs": [],
   "source": [
    "# project greenbook data to WGS 84\n",
    "cal=cal.to_crs(4326)"
   ]
  },
  {
   "cell_type": "code",
   "execution_count": null,
   "id": "e7fe34e3-b6dc-4b81-b687-4108feaccb05",
   "metadata": {},
   "outputs": [],
   "source": [
    "# check the crs now\n",
    "cal.crs"
   ]
  },
  {
   "cell_type": "markdown",
   "id": "d0ffe406-f7e9-46d0-80f0-653a4e3c7400",
   "metadata": {},
   "source": [
    "## Geopandas and Matplotlib\n",
    "\n",
    "- https://geopandas.org/en/stable/docs/user_guide/mapping.html"
   ]
  },
  {
   "cell_type": "code",
   "execution_count": null,
   "id": "3f863d05-4236-4d07-840b-ed8f2e319784",
   "metadata": {},
   "outputs": [],
   "source": [
    "import matplotlib.pyplot as plt"
   ]
  },
  {
   "cell_type": "code",
   "execution_count": null,
   "id": "a54d44a1-5a0f-4c54-964b-297e93c66dbe",
   "metadata": {},
   "outputs": [],
   "source": [
    "# set up the \"subplot\"\n",
    "# note that \"ax\" is the single plot's identifier\n",
    "fig, ax = plt.subplots(figsize=(12,12))\n",
    "\n",
    "cal.plot(\n",
    "            ax=ax, # this puts this layer in the \"ax\" plot\n",
    "            column='AsthmaP', \n",
    "            legend=True, \n",
    "            cmap='Greens', \n",
    "            scheme='user_defined', \n",
    "            classification_kwds={'bins':[80,100]})\n",
    "\n",
    "green.plot(\n",
    "            ax=ax,\n",
    "            column = 'Type'\n",
    "          )\n",
    "\n",
    "# turn the axes off\n",
    "ax.set_axis_off();"
   ]
  },
  {
   "cell_type": "markdown",
   "id": "77d23178-3144-4550-9b9e-fc6d518b81cb",
   "metadata": {},
   "source": [
    "## Zoom in to a specific layer"
   ]
  },
  {
   "cell_type": "code",
   "execution_count": null,
   "id": "ec85bf28-c993-4d90-ab8f-15d900e1a6cb",
   "metadata": {},
   "outputs": [],
   "source": [
    "fig, ax = plt.subplots(figsize=(12,12))\n",
    "cal.plot(\n",
    "                  ax=ax,\n",
    "                  column='AsthmaP', \n",
    "                  cmap='Greens', \n",
    "                  scheme='user_defined', \n",
    "                    alpha=0.3,\n",
    "                  classification_kwds={'bins':[50,100]})\n",
    "\n",
    "green.plot(ax=ax,\n",
    "            column = 'Type',\n",
    "          legend=True)\n",
    "\n",
    "# get the bounding box of the greenbook data points\n",
    "minx, miny, maxx, maxy = green.geometry.total_bounds\n",
    "\n",
    "# set the extent of the map to these bounds\n",
    "ax.set_xlim(minx - 0.1, maxx + 0.1) # added/substracted value is to give some margin around total bounds\n",
    "ax.set_ylim(miny - 0.1, maxy + 0.1)\n",
    "\n",
    "\n",
    "# give it a title\n",
    "ax.set_title('Greenbook Locations in LA\\n(green = more than 50% Asthma regions)', fontdict={'fontsize': '20', 'fontweight' : '3'})\n",
    "\n",
    "\n",
    "# add a basemap\n",
    "cx.add_basemap(ax, crs=green.crs.to_string())\n",
    "\n",
    "# turn the axes off\n",
    "ax.set_axis_off();"
   ]
  },
  {
   "cell_type": "markdown",
   "id": "13d18295-dff4-4bc9-a3bc-92c8663a2a5d",
   "metadata": {
    "tags": []
   },
   "source": [
    "# Redlining\n",
    "\n",
    "<img src=\"images/red1.png\" width=600>\n",
    "\n",
    "- [Mapping Inequality Maproom by University of Richmond](https://dsl.richmond.edu/panorama/redlining/#loc=5/39.1/-94.58)\n",
    "- [Downloadable data](https://dsl.richmond.edu/panorama/redlining/#loc=11/37.81/-122.369&city=oakland-ca&area=D9&adview=full&text=downloads)\n",
    "\n"
   ]
  },
  {
   "cell_type": "markdown",
   "id": "a767248b-62df-4096-a1f9-61adf7865d50",
   "metadata": {},
   "source": [
    "### An LA example"
   ]
  },
  {
   "cell_type": "code",
   "execution_count": null,
   "id": "cc66543b-c686-4ded-a69f-74a62e462da8",
   "metadata": {},
   "outputs": [],
   "source": [
    "red = gpd.read_file('https://dsl.richmond.edu/panorama/redlining/static/downloads/geojson/CALosAngeles1939.geojson')"
   ]
  },
  {
   "cell_type": "code",
   "execution_count": null,
   "id": "bb0c491a-86d6-4f23-b49a-70f96c604066",
   "metadata": {},
   "outputs": [],
   "source": [
    "red.head()"
   ]
  },
  {
   "cell_type": "code",
   "execution_count": null,
   "id": "bcb050dd-49fa-4a62-a198-8acd85f0db12",
   "metadata": {},
   "outputs": [],
   "source": [
    "# set up the plot\n",
    "fig, ax = plt.subplots(figsize=(12,12))\n",
    "\n",
    "# add the redlining data\n",
    "red.plot(\n",
    "        ax=ax,\n",
    "        column='holc_grade',\n",
    "        legend=True,\n",
    "         )\n",
    "\n",
    "# add a basemap\n",
    "cx.add_basemap(ax, crs=green.crs.to_string())\n",
    "\n",
    "# turn the axes off\n",
    "ax.set_axis_off();"
   ]
  },
  {
   "cell_type": "code",
   "execution_count": null,
   "id": "66781c05-e28b-4188-89b1-1e76d02e90f9",
   "metadata": {},
   "outputs": [],
   "source": [
    "# filter data to only show where holc_grade is \"D\"\n",
    "D = red[red['holc_grade'] == 'D']\n",
    "D"
   ]
  },
  {
   "cell_type": "code",
   "execution_count": null,
   "id": "bede1223-04af-4fc8-a2ed-8ab48cd7b7dc",
   "metadata": {},
   "outputs": [],
   "source": [
    "fig, ax = plt.subplots(figsize=(12,12))\n",
    "\n",
    "# plot \"D\" redlined areas\n",
    "D.plot(\n",
    "        ax=ax,\n",
    "        legend=True,\n",
    "        color='red',\n",
    "        alpha=0.5\n",
    "         )\n",
    "\n",
    "# add the greenbook locations\n",
    "green.plot(ax=ax,\n",
    "            column = 'Type',\n",
    "          legend=True)\n",
    "\n",
    "\n",
    "# add a basemap\n",
    "cx.add_basemap(ax, crs=green.crs.to_string())\n",
    "\n",
    "# turn the axes off\n",
    "ax.set_axis_off();"
   ]
  },
  {
   "cell_type": "markdown",
   "id": "ca17d552-cc91-4863-b3f6-448152caee84",
   "metadata": {},
   "source": [
    "# Interactive maps"
   ]
  },
  {
   "cell_type": "code",
   "execution_count": null,
   "id": "2fc89c8b-75f4-4418-9e00-d70e4b29a8bf",
   "metadata": {},
   "outputs": [],
   "source": [
    "fig = px.choropleth_mapbox(red, \n",
    "                     geojson=red.geometry, # the geometry column\n",
    "                     locations=red.index, # the index\n",
    "                     mapbox_style=\"stamen-toner\",\n",
    "                     zoom=9, \n",
    "                     color='holc_grade',\n",
    "                     hover_data=['holc_grade'],\n",
    "                     center = {\"lat\": center_lat_red, \"lon\": center_lon_red},\n",
    "                     opacity=0.5,\n",
    "                     width=1000,\n",
    "                     height=800,\n",
    "                     )\n",
    "fig.update_traces(marker_line_width=0.1, marker_line_color='white')\n",
    "# fig.update_layout(margin={\"r\":0,\"t\":0,\"l\":0,\"b\":0})\n"
   ]
  },
  {
   "cell_type": "code",
   "execution_count": null,
   "id": "03908594-0099-4a26-84e0-a0b1dffc7b13",
   "metadata": {},
   "outputs": [],
   "source": [
    "import plotly.express as px\n",
    "\n",
    "fig = px.scatter_mapbox(green,\n",
    "                        lat=green.geometry.y,\n",
    "                        lon=green.geometry.x,\n",
    "                        hover_name=\"Type\",\n",
    "                        hover_data=['Type','Name','Street Address'],\n",
    "                        color=\"Type\",\n",
    "                        zoom=10,\n",
    "                        height=600,\n",
    "                       mapbox_style='stamen-toner')\n",
    "fig.update_traces(marker={'size': 15})\n",
    "fig.show()"
   ]
  }
 ],
 "metadata": {
  "kernelspec": {
   "display_name": "Python 3 (ipykernel)",
   "language": "python",
   "name": "python3"
  },
  "language_info": {
   "codemirror_mode": {
    "name": "ipython",
    "version": 3
   },
   "file_extension": ".py",
   "mimetype": "text/x-python",
   "name": "python",
   "nbconvert_exporter": "python",
   "pygments_lexer": "ipython3",
   "version": "3.9.6"
  }
 },
 "nbformat": 4,
 "nbformat_minor": 5
}
